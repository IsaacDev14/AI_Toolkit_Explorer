{
 "cells": [
  {
   "cell_type": "code",
   "execution_count": 1,
   "id": "4fdce110",
   "metadata": {},
   "outputs": [
    {
     "name": "stdout",
     "output_type": "stream",
     "text": [
      "Decision Tree Metrics:\n",
      "Accuracy: 1.0\n",
      "Precision (macro): 1.0\n",
      "Recall (macro): 1.0\n",
      "              precision    recall  f1-score   support\n",
      "\n",
      "           0       1.00      1.00      1.00        10\n",
      "           1       1.00      1.00      1.00         9\n",
      "           2       1.00      1.00      1.00        11\n",
      "\n",
      "    accuracy                           1.00        30\n",
      "   macro avg       1.00      1.00      1.00        30\n",
      "weighted avg       1.00      1.00      1.00        30\n",
      "\n",
      "Downloading data from https://storage.googleapis.com/tensorflow/tf-keras-datasets/mnist.npz\n",
      "\u001b[1m11490434/11490434\u001b[0m \u001b[32m━━━━━━━━━━━━━━━━━━━━\u001b[0m\u001b[37m\u001b[0m \u001b[1m10s\u001b[0m 1us/step\n"
     ]
    },
    {
     "name": "stderr",
     "output_type": "stream",
     "text": [
      "/home/isaacdev/Developments/MyProjects/AI_Toolkit_Explorer/venv/lib/python3.12/site-packages/keras/src/layers/convolutional/base_conv.py:113: UserWarning: Do not pass an `input_shape`/`input_dim` argument to a layer. When using Sequential models, prefer using an `Input(shape)` object as the first layer in the model instead.\n",
      "  super().__init__(activity_regularizer=activity_regularizer, **kwargs)\n"
     ]
    },
    {
     "name": "stdout",
     "output_type": "stream",
     "text": [
      "Epoch 1/5\n",
      "\u001b[1m1688/1688\u001b[0m \u001b[32m━━━━━━━━━━━━━━━━━━━━\u001b[0m\u001b[37m\u001b[0m \u001b[1m49s\u001b[0m 27ms/step - accuracy: 0.9538 - loss: 0.1545 - val_accuracy: 0.9850 - val_loss: 0.0502\n",
      "Epoch 2/5\n",
      "\u001b[1m1688/1688\u001b[0m \u001b[32m━━━━━━━━━━━━━━━━━━━━\u001b[0m\u001b[37m\u001b[0m \u001b[1m64s\u001b[0m 38ms/step - accuracy: 0.9847 - loss: 0.0493 - val_accuracy: 0.9895 - val_loss: 0.0443\n",
      "Epoch 3/5\n",
      "\u001b[1m1688/1688\u001b[0m \u001b[32m━━━━━━━━━━━━━━━━━━━━\u001b[0m\u001b[37m\u001b[0m \u001b[1m50s\u001b[0m 29ms/step - accuracy: 0.9895 - loss: 0.0333 - val_accuracy: 0.9922 - val_loss: 0.0320\n",
      "Epoch 4/5\n",
      "\u001b[1m1688/1688\u001b[0m \u001b[32m━━━━━━━━━━━━━━━━━━━━\u001b[0m\u001b[37m\u001b[0m \u001b[1m50s\u001b[0m 29ms/step - accuracy: 0.9928 - loss: 0.0236 - val_accuracy: 0.9900 - val_loss: 0.0413\n",
      "Epoch 5/5\n",
      "\u001b[1m1688/1688\u001b[0m \u001b[32m━━━━━━━━━━━━━━━━━━━━\u001b[0m\u001b[37m\u001b[0m \u001b[1m48s\u001b[0m 29ms/step - accuracy: 0.9940 - loss: 0.0190 - val_accuracy: 0.9888 - val_loss: 0.0358\n",
      "\u001b[1m313/313\u001b[0m \u001b[32m━━━━━━━━━━━━━━━━━━━━\u001b[0m\u001b[37m\u001b[0m \u001b[1m4s\u001b[0m 12ms/step - accuracy: 0.9915 - loss: 0.0293\n",
      "MNIST CNN Test Accuracy: 0.9915000200271606\n",
      "\u001b[1m1/1\u001b[0m \u001b[32m━━━━━━━━━━━━━━━━━━━━\u001b[0m\u001b[37m\u001b[0m \u001b[1m0s\u001b[0m 200ms/step\n"
     ]
    },
    {
     "data": {
      "image/png": "[encoded data removed]",
      "text/plain": [
       "<Figure size 640x480 with 1 Axes>"
      ]
     },
     "metadata": {},
     "output_type": "display_data"
    },
    {
     "data": {
      "image/png": "[encoded data removed]",
      "text/plain": [
       "<Figure size 640x480 with 1 Axes>"
      ]
     },
     "metadata": {},
     "output_type": "display_data"
    },
    {
     "data": {
      "image/png": "[encoded data removed]",
      "text/plain": [
       "<Figure size 640x480 with 1 Axes>"
      ]
     },
     "metadata": {},
     "output_type": "display_data"
    },
    {
     "data": {
      "image/png": "[encoded data removed]",
      "text/plain": [
       "<Figure size 640x480 with 1 Axes>"
      ]
     },
     "metadata": {},
     "output_type": "display_data"
    },
    {
     "data": {
      "image/png": "[encoded data removed]",
      "text/plain": [
       "<Figure size 640x480 with 1 Axes>"
      ]
     },
     "metadata": {},
     "output_type": "display_data"
    },
    {
     "name": "stdout",
     "output_type": "stream",
     "text": [
      "\n",
      "Review: I love the Bose headphones! Sound quality is amazing.\n",
      "Named Entities:\n",
      "Bose (NORP)\n",
      "Sentiment: Positive\n",
      "\n",
      "Review: The Samsung Galaxy phone stopped working after a week.\n",
      "Named Entities:\n",
      "Samsung Galaxy (ORG)\n",
      "a week (DATE)\n",
      "Sentiment: Negative\n",
      "\n",
      "Review: Excellent Nike running shoes, very comfortable!\n",
      "Named Entities:\n",
      "Nike (ORG)\n",
      "Sentiment: Positive\n"
     ]
    }
   ],
   "source": [
    "# AI Toolkit Explorer\n",
    "# Practical AI tasks: Scikit-learn, TensorFlow, PyTorch, spaCy\n",
    "\n",
    "# -------------------------\n",
    "# Imports\n",
    "# -------------------------\n",
    "import numpy as np\n",
    "import pandas as pd\n",
    "import matplotlib.pyplot as plt\n",
    "\n",
    "from sklearn.model_selection import train_test_split\n",
    "from sklearn.preprocessing import LabelEncoder\n",
    "from sklearn.tree import DecisionTreeClassifier\n",
    "from sklearn.metrics import accuracy_score, precision_score, recall_score, classification_report\n",
    "\n",
    "import tensorflow as tf\n",
    "from tensorflow.keras import layers, models\n",
    "\n",
    "import torch\n",
    "import torchvision\n",
    "import torchvision.transforms as transforms\n",
    "import torch.nn as nn\n",
    "import torch.optim as optim\n",
    "\n",
    "import spacy\n",
    "nlp = spacy.load(\"en_core_web_sm\")\n",
    "\n",
    "# -------------------------\n",
    "# Part 1: Classical ML - Iris Dataset\n",
    "# -------------------------\n",
    "from sklearn.datasets import load_iris\n",
    "\n",
    "iris = load_iris()\n",
    "X = iris.data\n",
    "y = iris.target\n",
    "\n",
    "# Encode labels\n",
    "le = LabelEncoder()\n",
    "y_encoded = le.fit_transform(y)\n",
    "\n",
    "# Train-test split\n",
    "X_train, X_test, y_train, y_test = train_test_split(X, y_encoded, test_size=0.2, random_state=42)\n",
    "\n",
    "# Train Decision Tree\n",
    "dtc = DecisionTreeClassifier(random_state=42)\n",
    "dtc.fit(X_train, y_train)\n",
    "\n",
    "# Predictions\n",
    "y_pred = dtc.predict(X_test)\n",
    "\n",
    "# Evaluation\n",
    "print(\"Decision Tree Metrics:\")\n",
    "print(\"Accuracy:\", accuracy_score(y_test, y_pred))\n",
    "print(\"Precision (macro):\", precision_score(y_test, y_pred, average='macro'))\n",
    "print(\"Recall (macro):\", recall_score(y_test, y_pred, average='macro'))\n",
    "print(classification_report(y_test, y_pred))\n",
    "\n",
    "# -------------------------\n",
    "# Part 2: Deep Learning - MNIST CNN (TensorFlow)\n",
    "# -------------------------\n",
    "mnist = tf.keras.datasets.mnist\n",
    "(X_train_mnist, y_train_mnist), (X_test_mnist, y_test_mnist) = mnist.load_data()\n",
    "\n",
    "# Normalize and reshape\n",
    "X_train_mnist = X_train_mnist.reshape(-1,28,28,1)/255.0\n",
    "X_test_mnist = X_test_mnist.reshape(-1,28,28,1)/255.0\n",
    "\n",
    "# Build CNN model\n",
    "cnn_model = models.Sequential([\n",
    "    layers.Conv2D(32, (3,3), activation='relu', input_shape=(28,28,1)),\n",
    "    layers.MaxPooling2D((2,2)),\n",
    "    layers.Conv2D(64, (3,3), activation='relu'),\n",
    "    layers.MaxPooling2D((2,2)),\n",
    "    layers.Flatten(),\n",
    "    layers.Dense(64, activation='relu'),\n",
    "    layers.Dense(10, activation='softmax')\n",
    "])\n",
    "\n",
    "cnn_model.compile(optimizer='adam', loss='sparse_categorical_crossentropy', metrics=['accuracy'])\n",
    "cnn_model.fit(X_train_mnist, y_train_mnist, epochs=5, validation_split=0.1)\n",
    "\n",
    "# Evaluate\n",
    "test_loss, test_acc = cnn_model.evaluate(X_test_mnist, y_test_mnist)\n",
    "print(\"MNIST CNN Test Accuracy:\", test_acc)\n",
    "\n",
    "# Visualize 5 predictions\n",
    "sample_images = X_test_mnist[:5]\n",
    "sample_labels = y_test_mnist[:5]\n",
    "predictions = np.argmax(cnn_model.predict(sample_images), axis=1)\n",
    "\n",
    "for i in range(5):\n",
    "    plt.imshow(sample_images[i].reshape(28,28), cmap='gray')\n",
    "    plt.title(f\"True: {sample_labels[i]}, Pred: {predictions[i]}\")\n",
    "    plt.axis('off')\n",
    "    plt.show()\n",
    "\n",
    "# -------------------------\n",
    "# Part 3: NLP - Amazon Reviews NER & Sentiment\n",
    "# -------------------------\n",
    "reviews = [\n",
    "    \"I love the Bose headphones! Sound quality is amazing.\",\n",
    "    \"The Samsung Galaxy phone stopped working after a week.\",\n",
    "    \"Excellent Nike running shoes, very comfortable!\"\n",
    "]\n",
    "\n",
    "for review in reviews:\n",
    "    doc = nlp(review)\n",
    "    print(f\"\\nReview: {review}\")\n",
    "    print(\"Named Entities:\")\n",
    "    for ent in doc.ents:\n",
    "        print(f\"{ent.text} ({ent.label_})\")\n",
    "    \n",
    "    # Simple sentiment analysis\n",
    "    positive_words = [\"love\", \"amazing\", \"excellent\", \"comfortable\"]\n",
    "    negative_words = [\"stopped\", \"bad\", \"poor\", \"disappointing\"]\n",
    "    sentiment_score = sum([review.lower().count(w) for w in positive_words]) - \\\n",
    "                      sum([review.lower().count(w) for w in negative_words])\n",
    "    sentiment = \"Positive\" if sentiment_score > 0 else \"Negative\" if sentiment_score < 0 else \"Neutral\"\n",
    "    print(\"Sentiment:\", sentiment)\n"
   ]
  }
 ],
 "metadata": {
  "kernelspec": {
   "display_name": "venv",
   "language": "python",
   "name": "python3"
  },
  "language_info": {
   "codemirror_mode": {
    "name": "ipython",
    "version": 3
   },
   "file_extension": ".py",
   "mimetype": "text/x-python",
   "name": "python",
   "nbconvert_exporter": "python",
   "pygments_lexer": "ipython3",
   "version": "3.12.3"
  }
 },
 "nbformat": 4,
 "nbformat_minor": 5
}
